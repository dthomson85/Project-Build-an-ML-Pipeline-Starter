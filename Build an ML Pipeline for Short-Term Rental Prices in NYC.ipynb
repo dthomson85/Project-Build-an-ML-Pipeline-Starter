{
 "cells": [
  {
   "cell_type": "markdown",
   "id": "f7aedba5-aa9b-4e29-a125-88a076834670",
   "metadata": {},
   "source": [
    "# Investigating the structure and components of the project files"
   ]
  },
  {
   "cell_type": "code",
   "execution_count": 5,
   "id": "5d1c72e6-75a7-445f-bcac-39cfbe3e4534",
   "metadata": {},
   "outputs": [],
   "source": [
    "import os"
   ]
  },
  {
   "cell_type": "code",
   "execution_count": 6,
   "id": "ed9dbdab-9edb-4624-b016-f4761196ef60",
   "metadata": {},
   "outputs": [
    {
     "name": "stdout",
     "output_type": "stream",
     "text": [
      "Requirement already satisfied: seaborn in /home/dan/miniconda3/envs/nyc_airbnb_dev/lib/python3.10/site-packages (0.13.2)\n",
      "Requirement already satisfied: cryptography in /home/dan/miniconda3/envs/nyc_airbnb_dev/lib/python3.10/site-packages (46.0.3)\n",
      "Requirement already satisfied: numpy!=1.24.0,>=1.20 in /home/dan/miniconda3/envs/nyc_airbnb_dev/lib/python3.10/site-packages (from seaborn) (2.1.2)\n",
      "Requirement already satisfied: pandas>=1.2 in /home/dan/miniconda3/envs/nyc_airbnb_dev/lib/python3.10/site-packages (from seaborn) (2.3.3)\n",
      "Requirement already satisfied: matplotlib!=3.6.1,>=3.4 in /home/dan/.local/lib/python3.10/site-packages (from seaborn) (3.10.6)\n",
      "Requirement already satisfied: cffi>=2.0.0 in /home/dan/.local/lib/python3.10/site-packages (from cryptography) (2.0.0)\n",
      "Requirement already satisfied: typing-extensions>=4.13.2 in /home/dan/.local/lib/python3.10/site-packages (from cryptography) (4.15.0)\n",
      "Requirement already satisfied: pycparser in /home/dan/.local/lib/python3.10/site-packages (from cffi>=2.0.0->cryptography) (2.23)\n",
      "Requirement already satisfied: contourpy>=1.0.1 in /home/dan/.local/lib/python3.10/site-packages (from matplotlib!=3.6.1,>=3.4->seaborn) (1.3.2)\n",
      "Requirement already satisfied: cycler>=0.10 in /home/dan/.local/lib/python3.10/site-packages (from matplotlib!=3.6.1,>=3.4->seaborn) (0.12.1)\n",
      "Requirement already satisfied: fonttools>=4.22.0 in /home/dan/.local/lib/python3.10/site-packages (from matplotlib!=3.6.1,>=3.4->seaborn) (4.60.1)\n",
      "Requirement already satisfied: kiwisolver>=1.3.1 in /home/dan/.local/lib/python3.10/site-packages (from matplotlib!=3.6.1,>=3.4->seaborn) (1.4.9)\n",
      "Requirement already satisfied: packaging>=20.0 in /home/dan/.local/lib/python3.10/site-packages (from matplotlib!=3.6.1,>=3.4->seaborn) (25.0)\n",
      "Requirement already satisfied: pillow>=8 in /home/dan/miniconda3/envs/nyc_airbnb_dev/lib/python3.10/site-packages (from matplotlib!=3.6.1,>=3.4->seaborn) (10.3.0)\n",
      "Requirement already satisfied: pyparsing>=2.3.1 in /home/dan/miniconda3/envs/nyc_airbnb_dev/lib/python3.10/site-packages (from matplotlib!=3.6.1,>=3.4->seaborn) (3.2.5)\n",
      "Requirement already satisfied: python-dateutil>=2.7 in /home/dan/.local/lib/python3.10/site-packages (from matplotlib!=3.6.1,>=3.4->seaborn) (2.9.0.post0)\n",
      "Requirement already satisfied: pytz>=2020.1 in /home/dan/miniconda3/envs/nyc_airbnb_dev/lib/python3.10/site-packages (from pandas>=1.2->seaborn) (2025.2)\n",
      "Requirement already satisfied: tzdata>=2022.7 in /home/dan/.local/lib/python3.10/site-packages (from pandas>=1.2->seaborn) (2025.2)\n",
      "Requirement already satisfied: six>=1.5 in /home/dan/miniconda3/envs/nyc_airbnb_dev/lib/python3.10/site-packages (from python-dateutil>=2.7->matplotlib!=3.6.1,>=3.4->seaborn) (1.17.0)\n"
     ]
    }
   ],
   "source": [
    "!pip install seaborn cryptography"
   ]
  },
  {
   "cell_type": "code",
   "execution_count": 7,
   "id": "bf21a3a8-7a75-404a-9d31-c7784473e216",
   "metadata": {},
   "outputs": [
    {
     "name": "stdout",
     "output_type": "stream",
     "text": [
      "/home/dan/Project-Build-an-ML-Pipeline-Starter\n"
     ]
    }
   ],
   "source": [
    "%cd ~/Project-Build-an-ML-Pipeline-Starter"
   ]
  },
  {
   "cell_type": "code",
   "execution_count": 8,
   "id": "eda659c7-4c13-4783-bd2d-679c1ec6f8b8",
   "metadata": {},
   "outputs": [
    {
     "name": "stdout",
     "output_type": "stream",
     "text": [
      " \u001b[0m\u001b[01;34martifacts\u001b[0m/\n",
      "'Build an ML Pipeline for Short-Term Rental Prices in NYC.ipynb'\n",
      " CODEOWNERS\n",
      " \u001b[01;34mcomponents\u001b[0m/\n",
      " conda.yml\n",
      " config.yaml\n",
      " environment.yml\n",
      " \u001b[01;34mimages\u001b[0m/\n",
      " LICENSE.txt\n",
      " main.py\n",
      " MLproject\n",
      " \u001b[01;34mmlruns\u001b[0m/\n",
      " \u001b[01;34moutputs\u001b[0m/\n",
      " prime_finder_gpu.py\n",
      " prime_finder_trillion.py\n",
      " README.md\n",
      " \u001b[01;34msrc\u001b[0m/\n",
      " Untitled.ipynb\n",
      " UPGRADE_NOTES.md\n",
      " \u001b[01;34mwandb\u001b[0m/\n"
     ]
    }
   ],
   "source": [
    "%ls"
   ]
  },
  {
   "cell_type": "code",
   "execution_count": 9,
   "id": "9d2c5ae6-f9e4-439a-bc48-c98f874c1832",
   "metadata": {},
   "outputs": [
    {
     "name": "stderr",
     "output_type": "stream",
     "text": [
      "\u001b[34m\u001b[1mwandb\u001b[0m: Currently logged in as: \u001b[33mdthomson3\u001b[0m (\u001b[33mdthomson3-western-governors-university\u001b[0m) to \u001b[32mhttps://api.wandb.ai\u001b[0m. Use \u001b[1m`wandb login --relogin`\u001b[0m to force relogin\n"
     ]
    },
    {
     "data": {
      "text/html": [],
      "text/plain": [
       "<IPython.core.display.HTML object>"
      ]
     },
     "metadata": {},
     "output_type": "display_data"
    },
    {
     "data": {
      "text/html": [
       "Tracking run with wandb version 0.22.2"
      ],
      "text/plain": [
       "<IPython.core.display.HTML object>"
      ]
     },
     "metadata": {},
     "output_type": "display_data"
    },
    {
     "data": {
      "text/html": [
       "Run data is saved locally in <code>/home/dan/Project-Build-an-ML-Pipeline-Starter/wandb/run-20251021_072023-w7sxxfzj</code>"
      ],
      "text/plain": [
       "<IPython.core.display.HTML object>"
      ]
     },
     "metadata": {},
     "output_type": "display_data"
    },
    {
     "data": {
      "text/html": [
       "Syncing run <strong><a href='https://wandb.ai/dthomson3-western-governors-university/nyc_airbnb/runs/w7sxxfzj' target=\"_blank\">rare-river-6</a></strong> to <a href='https://wandb.ai/dthomson3-western-governors-university/nyc_airbnb' target=\"_blank\">Weights & Biases</a> (<a href='https://wandb.me/developer-guide' target=\"_blank\">docs</a>)<br>"
      ],
      "text/plain": [
       "<IPython.core.display.HTML object>"
      ]
     },
     "metadata": {},
     "output_type": "display_data"
    },
    {
     "data": {
      "text/html": [
       " View project at <a href='https://wandb.ai/dthomson3-western-governors-university/nyc_airbnb' target=\"_blank\">https://wandb.ai/dthomson3-western-governors-university/nyc_airbnb</a>"
      ],
      "text/plain": [
       "<IPython.core.display.HTML object>"
      ]
     },
     "metadata": {},
     "output_type": "display_data"
    },
    {
     "data": {
      "text/html": [
       " View run at <a href='https://wandb.ai/dthomson3-western-governors-university/nyc_airbnb/runs/w7sxxfzj' target=\"_blank\">https://wandb.ai/dthomson3-western-governors-university/nyc_airbnb/runs/w7sxxfzj</a>"
      ],
      "text/plain": [
       "<IPython.core.display.HTML object>"
      ]
     },
     "metadata": {},
     "output_type": "display_data"
    },
    {
     "data": {
      "application/vnd.microsoft.datawrangler.viewer.v0+json": {
       "columns": [
        {
         "name": "index",
         "rawType": "int64",
         "type": "integer"
        },
        {
         "name": "id",
         "rawType": "int64",
         "type": "integer"
        },
        {
         "name": "name",
         "rawType": "object",
         "type": "string"
        },
        {
         "name": "host_id",
         "rawType": "int64",
         "type": "integer"
        },
        {
         "name": "host_name",
         "rawType": "object",
         "type": "string"
        },
        {
         "name": "neighbourhood_group",
         "rawType": "object",
         "type": "string"
        },
        {
         "name": "neighbourhood",
         "rawType": "object",
         "type": "string"
        },
        {
         "name": "latitude",
         "rawType": "float64",
         "type": "float"
        },
        {
         "name": "longitude",
         "rawType": "float64",
         "type": "float"
        },
        {
         "name": "room_type",
         "rawType": "object",
         "type": "string"
        },
        {
         "name": "price",
         "rawType": "int64",
         "type": "integer"
        },
        {
         "name": "minimum_nights",
         "rawType": "int64",
         "type": "integer"
        },
        {
         "name": "number_of_reviews",
         "rawType": "int64",
         "type": "integer"
        },
        {
         "name": "last_review",
         "rawType": "object",
         "type": "unknown"
        },
        {
         "name": "reviews_per_month",
         "rawType": "float64",
         "type": "float"
        },
        {
         "name": "calculated_host_listings_count",
         "rawType": "int64",
         "type": "integer"
        },
        {
         "name": "availability_365",
         "rawType": "int64",
         "type": "integer"
        }
       ],
       "ref": "d78910f4-a40a-4118-94e3-fb8c33544f44",
       "rows": [
        [
         "0",
         "9138664",
         "Private Lg Room 15 min to Manhattan",
         "47594947",
         "Iris",
         "Queens",
         "Sunnyside",
         "40.74271",
         "-73.92493",
         "Private room",
         "74",
         "2",
         "6",
         "2019-05-26",
         "0.13",
         "1",
         "5"
        ],
        [
         "1",
         "31444015",
         "TIME SQUARE CHARMING ONE BED IN HELL'S KITCHEN,NYC",
         "8523790",
         "Johlex",
         "Manhattan",
         "Hell's Kitchen",
         "40.76682",
         "-73.98878",
         "Entire home/apt",
         "170",
         "3",
         "0",
         null,
         null,
         "1",
         "188"
        ],
        [
         "2",
         "8741020",
         "Voted #1 Location Quintessential 1BR W Village Apt",
         "45854238",
         "John",
         "Manhattan",
         "West Village",
         "40.73631",
         "-74.00610999999999",
         "Entire home/apt",
         "245",
         "3",
         "51",
         "2018-09-19",
         "1.12",
         "1",
         "0"
        ],
        [
         "3",
         "34602077",
         "Spacious 1 bedroom apartment 15min from Manhattan",
         "261055465",
         "Regan",
         "Queens",
         "Astoria",
         "40.76424",
         "-73.92351",
         "Entire home/apt",
         "125",
         "3",
         "1",
         "2019-05-24",
         "0.65",
         "1",
         "13"
        ],
        [
         "4",
         "23203149",
         "Big beautiful bedroom in huge Bushwick apartment",
         "143460",
         "Megan",
         "Brooklyn",
         "Bushwick",
         "40.69839",
         "-73.92044",
         "Private room",
         "65",
         "2",
         "8",
         "2019-06-23",
         "0.52",
         "2",
         "8"
        ]
       ],
       "shape": {
        "columns": 16,
        "rows": 5
       }
      },
      "text/html": [
       "<div>\n",
       "<style scoped>\n",
       "    .dataframe tbody tr th:only-of-type {\n",
       "        vertical-align: middle;\n",
       "    }\n",
       "\n",
       "    .dataframe tbody tr th {\n",
       "        vertical-align: top;\n",
       "    }\n",
       "\n",
       "    .dataframe thead th {\n",
       "        text-align: right;\n",
       "    }\n",
       "</style>\n",
       "<table border=\"1\" class=\"dataframe\">\n",
       "  <thead>\n",
       "    <tr style=\"text-align: right;\">\n",
       "      <th></th>\n",
       "      <th>id</th>\n",
       "      <th>name</th>\n",
       "      <th>host_id</th>\n",
       "      <th>host_name</th>\n",
       "      <th>neighbourhood_group</th>\n",
       "      <th>neighbourhood</th>\n",
       "      <th>latitude</th>\n",
       "      <th>longitude</th>\n",
       "      <th>room_type</th>\n",
       "      <th>price</th>\n",
       "      <th>minimum_nights</th>\n",
       "      <th>number_of_reviews</th>\n",
       "      <th>last_review</th>\n",
       "      <th>reviews_per_month</th>\n",
       "      <th>calculated_host_listings_count</th>\n",
       "      <th>availability_365</th>\n",
       "    </tr>\n",
       "  </thead>\n",
       "  <tbody>\n",
       "    <tr>\n",
       "      <th>0</th>\n",
       "      <td>9138664</td>\n",
       "      <td>Private Lg Room 15 min to Manhattan</td>\n",
       "      <td>47594947</td>\n",
       "      <td>Iris</td>\n",
       "      <td>Queens</td>\n",
       "      <td>Sunnyside</td>\n",
       "      <td>40.74271</td>\n",
       "      <td>-73.92493</td>\n",
       "      <td>Private room</td>\n",
       "      <td>74</td>\n",
       "      <td>2</td>\n",
       "      <td>6</td>\n",
       "      <td>2019-05-26</td>\n",
       "      <td>0.13</td>\n",
       "      <td>1</td>\n",
       "      <td>5</td>\n",
       "    </tr>\n",
       "    <tr>\n",
       "      <th>1</th>\n",
       "      <td>31444015</td>\n",
       "      <td>TIME SQUARE CHARMING ONE BED IN HELL'S KITCHEN...</td>\n",
       "      <td>8523790</td>\n",
       "      <td>Johlex</td>\n",
       "      <td>Manhattan</td>\n",
       "      <td>Hell's Kitchen</td>\n",
       "      <td>40.76682</td>\n",
       "      <td>-73.98878</td>\n",
       "      <td>Entire home/apt</td>\n",
       "      <td>170</td>\n",
       "      <td>3</td>\n",
       "      <td>0</td>\n",
       "      <td>NaN</td>\n",
       "      <td>NaN</td>\n",
       "      <td>1</td>\n",
       "      <td>188</td>\n",
       "    </tr>\n",
       "    <tr>\n",
       "      <th>2</th>\n",
       "      <td>8741020</td>\n",
       "      <td>Voted #1 Location Quintessential 1BR W Village...</td>\n",
       "      <td>45854238</td>\n",
       "      <td>John</td>\n",
       "      <td>Manhattan</td>\n",
       "      <td>West Village</td>\n",
       "      <td>40.73631</td>\n",
       "      <td>-74.00611</td>\n",
       "      <td>Entire home/apt</td>\n",
       "      <td>245</td>\n",
       "      <td>3</td>\n",
       "      <td>51</td>\n",
       "      <td>2018-09-19</td>\n",
       "      <td>1.12</td>\n",
       "      <td>1</td>\n",
       "      <td>0</td>\n",
       "    </tr>\n",
       "    <tr>\n",
       "      <th>3</th>\n",
       "      <td>34602077</td>\n",
       "      <td>Spacious 1 bedroom apartment 15min from Manhattan</td>\n",
       "      <td>261055465</td>\n",
       "      <td>Regan</td>\n",
       "      <td>Queens</td>\n",
       "      <td>Astoria</td>\n",
       "      <td>40.76424</td>\n",
       "      <td>-73.92351</td>\n",
       "      <td>Entire home/apt</td>\n",
       "      <td>125</td>\n",
       "      <td>3</td>\n",
       "      <td>1</td>\n",
       "      <td>2019-05-24</td>\n",
       "      <td>0.65</td>\n",
       "      <td>1</td>\n",
       "      <td>13</td>\n",
       "    </tr>\n",
       "    <tr>\n",
       "      <th>4</th>\n",
       "      <td>23203149</td>\n",
       "      <td>Big beautiful bedroom in huge Bushwick apartment</td>\n",
       "      <td>143460</td>\n",
       "      <td>Megan</td>\n",
       "      <td>Brooklyn</td>\n",
       "      <td>Bushwick</td>\n",
       "      <td>40.69839</td>\n",
       "      <td>-73.92044</td>\n",
       "      <td>Private room</td>\n",
       "      <td>65</td>\n",
       "      <td>2</td>\n",
       "      <td>8</td>\n",
       "      <td>2019-06-23</td>\n",
       "      <td>0.52</td>\n",
       "      <td>2</td>\n",
       "      <td>8</td>\n",
       "    </tr>\n",
       "  </tbody>\n",
       "</table>\n",
       "</div>"
      ],
      "text/plain": [
       "         id                                               name    host_id  \\\n",
       "0   9138664                Private Lg Room 15 min to Manhattan   47594947   \n",
       "1  31444015  TIME SQUARE CHARMING ONE BED IN HELL'S KITCHEN...    8523790   \n",
       "2   8741020  Voted #1 Location Quintessential 1BR W Village...   45854238   \n",
       "3  34602077  Spacious 1 bedroom apartment 15min from Manhattan  261055465   \n",
       "4  23203149   Big beautiful bedroom in huge Bushwick apartment     143460   \n",
       "\n",
       "  host_name neighbourhood_group   neighbourhood  latitude  longitude  \\\n",
       "0      Iris              Queens       Sunnyside  40.74271  -73.92493   \n",
       "1    Johlex           Manhattan  Hell's Kitchen  40.76682  -73.98878   \n",
       "2      John           Manhattan    West Village  40.73631  -74.00611   \n",
       "3     Regan              Queens         Astoria  40.76424  -73.92351   \n",
       "4     Megan            Brooklyn        Bushwick  40.69839  -73.92044   \n",
       "\n",
       "         room_type  price  minimum_nights  number_of_reviews last_review  \\\n",
       "0     Private room     74               2                  6  2019-05-26   \n",
       "1  Entire home/apt    170               3                  0         NaN   \n",
       "2  Entire home/apt    245               3                 51  2018-09-19   \n",
       "3  Entire home/apt    125               3                  1  2019-05-24   \n",
       "4     Private room     65               2                  8  2019-06-23   \n",
       "\n",
       "   reviews_per_month  calculated_host_listings_count  availability_365  \n",
       "0               0.13                               1                 5  \n",
       "1                NaN                               1               188  \n",
       "2               1.12                               1                 0  \n",
       "3               0.65                               1                13  \n",
       "4               0.52                               2                 8  "
      ]
     },
     "execution_count": 9,
     "metadata": {},
     "output_type": "execute_result"
    }
   ],
   "source": [
    "import pandas as pd\n",
    "import numpy as np\n",
    "import matplotlib.pyplot as plt\n",
    "import seaborn as sns\n",
    "import wandb\n",
    "\n",
    "# Initialize wandb\n",
    "run = wandb.init(project=\"nyc_airbnb\", job_type=\"eda\")\n",
    "\n",
    "# Download the artifact from download step\n",
    "artifact = run.use_artifact('dthomson3-western-governors-university/nyc_airbnb/sample.csv:latest')\n",
    "artifact_path = artifact.file()\n",
    "\n",
    "# Load data\n",
    "df = pd.read_csv(artifact_path)\n",
    "df.head()"
   ]
  },
  {
   "cell_type": "code",
   "execution_count": 10,
   "id": "35f45ec9-f454-49f3-87aa-d1166742f475",
   "metadata": {},
   "outputs": [
    {
     "data": {
      "text/plain": [
       "(20000, 16)"
      ]
     },
     "execution_count": 10,
     "metadata": {},
     "output_type": "execute_result"
    }
   ],
   "source": [
    "df.shape"
   ]
  },
  {
   "cell_type": "code",
   "execution_count": 11,
   "id": "feb0ec85-8620-4145-b57b-75339e22aedd",
   "metadata": {},
   "outputs": [
    {
     "name": "stdout",
     "output_type": "stream",
     "text": [
      "<class 'pandas.core.frame.DataFrame'>\n",
      "RangeIndex: 20000 entries, 0 to 19999\n",
      "Data columns (total 16 columns):\n",
      " #   Column                          Non-Null Count  Dtype  \n",
      "---  ------                          --------------  -----  \n",
      " 0   id                              20000 non-null  int64  \n",
      " 1   name                            19993 non-null  object \n",
      " 2   host_id                         20000 non-null  int64  \n",
      " 3   host_name                       19992 non-null  object \n",
      " 4   neighbourhood_group             20000 non-null  object \n",
      " 5   neighbourhood                   20000 non-null  object \n",
      " 6   latitude                        20000 non-null  float64\n",
      " 7   longitude                       20000 non-null  float64\n",
      " 8   room_type                       20000 non-null  object \n",
      " 9   price                           20000 non-null  int64  \n",
      " 10  minimum_nights                  20000 non-null  int64  \n",
      " 11  number_of_reviews               20000 non-null  int64  \n",
      " 12  last_review                     15877 non-null  object \n",
      " 13  reviews_per_month               15877 non-null  float64\n",
      " 14  calculated_host_listings_count  20000 non-null  int64  \n",
      " 15  availability_365                20000 non-null  int64  \n",
      "dtypes: float64(3), int64(7), object(6)\n",
      "memory usage: 2.4+ MB\n"
     ]
    }
   ],
   "source": [
    "df.info()"
   ]
  },
  {
   "cell_type": "code",
   "execution_count": 12,
   "id": "6d9309e6-9d06-4771-9325-adf0a8ffaaf7",
   "metadata": {},
   "outputs": [
    {
     "data": {
      "application/vnd.microsoft.datawrangler.viewer.v0+json": {
       "columns": [
        {
         "name": "index",
         "rawType": "object",
         "type": "string"
        },
        {
         "name": "id",
         "rawType": "float64",
         "type": "float"
        },
        {
         "name": "host_id",
         "rawType": "float64",
         "type": "float"
        },
        {
         "name": "latitude",
         "rawType": "float64",
         "type": "float"
        },
        {
         "name": "longitude",
         "rawType": "float64",
         "type": "float"
        },
        {
         "name": "price",
         "rawType": "float64",
         "type": "float"
        },
        {
         "name": "minimum_nights",
         "rawType": "float64",
         "type": "float"
        },
        {
         "name": "number_of_reviews",
         "rawType": "float64",
         "type": "float"
        },
        {
         "name": "reviews_per_month",
         "rawType": "float64",
         "type": "float"
        },
        {
         "name": "calculated_host_listings_count",
         "rawType": "float64",
         "type": "float"
        },
        {
         "name": "availability_365",
         "rawType": "float64",
         "type": "float"
        }
       ],
       "ref": "1ee03bd2-bbaa-4c79-8cb9-a0dca92335c7",
       "rows": [
        [
         "count",
         "20000.0",
         "20000.0",
         "20000.0",
         "20000.0",
         "20000.0",
         "20000.0",
         "20000.0",
         "15877.0",
         "20000.0",
         "20000.0"
        ],
        [
         "mean",
         "18923800.78335",
         "67460344.0675",
         "40.728455151999995",
         "-73.95212502199999",
         "153.26905",
         "6.9921",
         "23.2741",
         "1.3774459910562449",
         "6.95545",
         "112.9012"
        ],
        [
         "std",
         "11012232.415482908",
         "78579364.79992948",
         "0.0547550769942818",
         "0.046558783231247715",
         "243.32560886535143",
         "21.64544903353112",
         "44.9277931187336",
         "1.6830056208498316",
         "32.433830531801945",
         "131.7622263881995"
        ],
        [
         "min",
         "2539.0",
         "2571.0",
         "40.50873",
         "-74.23914",
         "0.0",
         "1.0",
         "0.0",
         "0.01",
         "1.0",
         "0.0"
        ],
        [
         "25%",
         "9393540.5",
         "7853718.25",
         "40.68942",
         "-73.98303",
         "69.0",
         "1.0",
         "1.0",
         "0.19",
         "1.0",
         "0.0"
        ],
        [
         "50%",
         "19521168.5",
         "31114309.5",
         "40.72273",
         "-73.95564",
         "105.0",
         "2.0",
         "5.0",
         "0.72",
         "1.0",
         "44.0"
        ],
        [
         "75%",
         "29129358.75",
         "106842560.0",
         "40.76299",
         "-73.93638",
         "175.0",
         "5.0",
         "23.0",
         "2.01",
         "2.0",
         "229.0"
        ],
        [
         "max",
         "36485609.0",
         "274273284.0",
         "40.91306",
         "-73.71795",
         "10000.0",
         "1250.0",
         "607.0",
         "27.95",
         "327.0",
         "365.0"
        ]
       ],
       "shape": {
        "columns": 10,
        "rows": 8
       }
      },
      "text/html": [
       "<div>\n",
       "<style scoped>\n",
       "    .dataframe tbody tr th:only-of-type {\n",
       "        vertical-align: middle;\n",
       "    }\n",
       "\n",
       "    .dataframe tbody tr th {\n",
       "        vertical-align: top;\n",
       "    }\n",
       "\n",
       "    .dataframe thead th {\n",
       "        text-align: right;\n",
       "    }\n",
       "</style>\n",
       "<table border=\"1\" class=\"dataframe\">\n",
       "  <thead>\n",
       "    <tr style=\"text-align: right;\">\n",
       "      <th></th>\n",
       "      <th>id</th>\n",
       "      <th>host_id</th>\n",
       "      <th>latitude</th>\n",
       "      <th>longitude</th>\n",
       "      <th>price</th>\n",
       "      <th>minimum_nights</th>\n",
       "      <th>number_of_reviews</th>\n",
       "      <th>reviews_per_month</th>\n",
       "      <th>calculated_host_listings_count</th>\n",
       "      <th>availability_365</th>\n",
       "    </tr>\n",
       "  </thead>\n",
       "  <tbody>\n",
       "    <tr>\n",
       "      <th>count</th>\n",
       "      <td>2.000000e+04</td>\n",
       "      <td>2.000000e+04</td>\n",
       "      <td>20000.000000</td>\n",
       "      <td>20000.000000</td>\n",
       "      <td>20000.000000</td>\n",
       "      <td>20000.000000</td>\n",
       "      <td>20000.000000</td>\n",
       "      <td>15877.000000</td>\n",
       "      <td>20000.000000</td>\n",
       "      <td>20000.000000</td>\n",
       "    </tr>\n",
       "    <tr>\n",
       "      <th>mean</th>\n",
       "      <td>1.892380e+07</td>\n",
       "      <td>6.746034e+07</td>\n",
       "      <td>40.728455</td>\n",
       "      <td>-73.952125</td>\n",
       "      <td>153.269050</td>\n",
       "      <td>6.992100</td>\n",
       "      <td>23.274100</td>\n",
       "      <td>1.377446</td>\n",
       "      <td>6.955450</td>\n",
       "      <td>112.901200</td>\n",
       "    </tr>\n",
       "    <tr>\n",
       "      <th>std</th>\n",
       "      <td>1.101223e+07</td>\n",
       "      <td>7.857936e+07</td>\n",
       "      <td>0.054755</td>\n",
       "      <td>0.046559</td>\n",
       "      <td>243.325609</td>\n",
       "      <td>21.645449</td>\n",
       "      <td>44.927793</td>\n",
       "      <td>1.683006</td>\n",
       "      <td>32.433831</td>\n",
       "      <td>131.762226</td>\n",
       "    </tr>\n",
       "    <tr>\n",
       "      <th>min</th>\n",
       "      <td>2.539000e+03</td>\n",
       "      <td>2.571000e+03</td>\n",
       "      <td>40.508730</td>\n",
       "      <td>-74.239140</td>\n",
       "      <td>0.000000</td>\n",
       "      <td>1.000000</td>\n",
       "      <td>0.000000</td>\n",
       "      <td>0.010000</td>\n",
       "      <td>1.000000</td>\n",
       "      <td>0.000000</td>\n",
       "    </tr>\n",
       "    <tr>\n",
       "      <th>25%</th>\n",
       "      <td>9.393540e+06</td>\n",
       "      <td>7.853718e+06</td>\n",
       "      <td>40.689420</td>\n",
       "      <td>-73.983030</td>\n",
       "      <td>69.000000</td>\n",
       "      <td>1.000000</td>\n",
       "      <td>1.000000</td>\n",
       "      <td>0.190000</td>\n",
       "      <td>1.000000</td>\n",
       "      <td>0.000000</td>\n",
       "    </tr>\n",
       "    <tr>\n",
       "      <th>50%</th>\n",
       "      <td>1.952117e+07</td>\n",
       "      <td>3.111431e+07</td>\n",
       "      <td>40.722730</td>\n",
       "      <td>-73.955640</td>\n",
       "      <td>105.000000</td>\n",
       "      <td>2.000000</td>\n",
       "      <td>5.000000</td>\n",
       "      <td>0.720000</td>\n",
       "      <td>1.000000</td>\n",
       "      <td>44.000000</td>\n",
       "    </tr>\n",
       "    <tr>\n",
       "      <th>75%</th>\n",
       "      <td>2.912936e+07</td>\n",
       "      <td>1.068426e+08</td>\n",
       "      <td>40.762990</td>\n",
       "      <td>-73.936380</td>\n",
       "      <td>175.000000</td>\n",
       "      <td>5.000000</td>\n",
       "      <td>23.000000</td>\n",
       "      <td>2.010000</td>\n",
       "      <td>2.000000</td>\n",
       "      <td>229.000000</td>\n",
       "    </tr>\n",
       "    <tr>\n",
       "      <th>max</th>\n",
       "      <td>3.648561e+07</td>\n",
       "      <td>2.742733e+08</td>\n",
       "      <td>40.913060</td>\n",
       "      <td>-73.717950</td>\n",
       "      <td>10000.000000</td>\n",
       "      <td>1250.000000</td>\n",
       "      <td>607.000000</td>\n",
       "      <td>27.950000</td>\n",
       "      <td>327.000000</td>\n",
       "      <td>365.000000</td>\n",
       "    </tr>\n",
       "  </tbody>\n",
       "</table>\n",
       "</div>"
      ],
      "text/plain": [
       "                 id       host_id      latitude     longitude         price  \\\n",
       "count  2.000000e+04  2.000000e+04  20000.000000  20000.000000  20000.000000   \n",
       "mean   1.892380e+07  6.746034e+07     40.728455    -73.952125    153.269050   \n",
       "std    1.101223e+07  7.857936e+07      0.054755      0.046559    243.325609   \n",
       "min    2.539000e+03  2.571000e+03     40.508730    -74.239140      0.000000   \n",
       "25%    9.393540e+06  7.853718e+06     40.689420    -73.983030     69.000000   \n",
       "50%    1.952117e+07  3.111431e+07     40.722730    -73.955640    105.000000   \n",
       "75%    2.912936e+07  1.068426e+08     40.762990    -73.936380    175.000000   \n",
       "max    3.648561e+07  2.742733e+08     40.913060    -73.717950  10000.000000   \n",
       "\n",
       "       minimum_nights  number_of_reviews  reviews_per_month  \\\n",
       "count    20000.000000       20000.000000       15877.000000   \n",
       "mean         6.992100          23.274100           1.377446   \n",
       "std         21.645449          44.927793           1.683006   \n",
       "min          1.000000           0.000000           0.010000   \n",
       "25%          1.000000           1.000000           0.190000   \n",
       "50%          2.000000           5.000000           0.720000   \n",
       "75%          5.000000          23.000000           2.010000   \n",
       "max       1250.000000         607.000000          27.950000   \n",
       "\n",
       "       calculated_host_listings_count  availability_365  \n",
       "count                    20000.000000      20000.000000  \n",
       "mean                         6.955450        112.901200  \n",
       "std                         32.433831        131.762226  \n",
       "min                          1.000000          0.000000  \n",
       "25%                          1.000000          0.000000  \n",
       "50%                          1.000000         44.000000  \n",
       "75%                          2.000000        229.000000  \n",
       "max                        327.000000        365.000000  "
      ]
     },
     "execution_count": 12,
     "metadata": {},
     "output_type": "execute_result"
    }
   ],
   "source": [
    "df.describe()"
   ]
  },
  {
   "cell_type": "markdown",
   "id": "883098df-fb37-4cca-beb6-ec70987b7e04",
   "metadata": {},
   "source": [
    "## Looking for any missing values"
   ]
  },
  {
   "cell_type": "code",
   "execution_count": 13,
   "id": "9fe29493-a680-4ce2-b64a-86a491a94f0f",
   "metadata": {},
   "outputs": [
    {
     "name": "stdout",
     "output_type": "stream",
     "text": [
      "                   Missing_Count  Missing_Percentage\n",
      "reviews_per_month           4123              20.615\n",
      "last_review                 4123              20.615\n",
      "host_name                      8               0.040\n",
      "name                           7               0.035\n"
     ]
    }
   ],
   "source": [
    "missing = df.isnull().sum()\n",
    "\n",
    "missing_pct = df.isnull().mean() * 100\n",
    "\n",
    "missing_df = pd.DataFrame({\n",
    "    'Missing_Count': missing,\n",
    "    'Missing_Percentage': missing_pct\n",
    "})\n",
    "\n",
    "print(missing_df[missing_df['Missing_Count'] > 0].sort_values('Missing_Count', ascending=False))"
   ]
  },
  {
   "cell_type": "markdown",
   "id": "92eb4b88-91da-48c3-84e4-685174239554",
   "metadata": {},
   "source": [
    "## Looking for outliers in the price column\n",
    "* This is likely the column I will use in the machine learning model for prediction.\n",
    "* after looking at the df.describe(), we can already suspect that with a min of `0` and a max of `10,000` that we might have some outliers.\n",
    "* These outliers can skew the results, so I want to find them early.\n",
    "\n",
    "## Observation\n",
    "* I can clearly see some outliers near the `$0` and `$10,000` listings.\n",
    "* This explains why the mean of `$153.27` is much higher than the median of `$105.00`"
   ]
  },
  {
   "cell_type": "code",
   "execution_count": 14,
   "id": "1e251314-550a-45a9-b57f-ce14691bdf66",
   "metadata": {},
   "outputs": [
    {
     "data": {
      "image/png": "[encoded data removed]",
      "text/plain": [
       "<Figure size 1200x400 with 2 Axes>"
      ]
     },
     "metadata": {},
     "output_type": "display_data"
    },
    {
     "name": "stdout",
     "output_type": "stream",
     "text": [
      "Price stats:\n",
      "Min: $0\n",
      "Max: $10000\n",
      "Mean: $153.27\n",
      "Median: $105.00\n"
     ]
    }
   ],
   "source": [
    "# plotting outliers for better visualization.\n",
    "# printing the price, min, max, mean, and median right under the plots for clarity.\n",
    "# adding boxplot for another visual on the distribution of the price column.\n",
    "\n",
    "plt.figure(figsize=(12, 4))\n",
    "\n",
    "plt.subplot(1, 2, 1)\n",
    "df['price'].hist(bins=50)\n",
    "plt.xlabel('Price')\n",
    "plt.title('Price Distribution')\n",
    "\n",
    "plt.subplot(1, 2, 2)\n",
    "df.boxplot(column='price')\n",
    "plt.title('Price Boxplot')\n",
    "\n",
    "plt.tight_layout()\n",
    "plt.show()\n",
    "\n",
    "print(f\"Price stats:\")\n",
    "print(f\"Min: ${df['price'].min()}\")\n",
    "print(f\"Max: ${df['price'].max()}\")\n",
    "print(f\"Mean: ${df['price'].mean():.2f}\")\n",
    "print(f\"Median: ${df['price'].median():.2f}\")"
   ]
  },
  {
   "cell_type": "markdown",
   "id": "00ecc472-bea1-4ebf-9658-30ae247be7f3",
   "metadata": {},
   "source": [
    "## Investigating data types and looking for any negative values\n",
    "* data type mismatches are a common reason why data quality suffers. I want to catch this early.\n",
    "* It wouldn't make sense for there to be negative values in the price column, so I want to rule that out early as well."
   ]
  },
  {
   "cell_type": "code",
   "execution_count": 15,
   "id": "d7724ae5-a737-46e0-888d-319a403970e2",
   "metadata": {},
   "outputs": [
    {
     "name": "stdout",
     "output_type": "stream",
     "text": [
      "Summary statistics for key columns:\n",
      "       minimum_nights  number_of_reviews  availability_365         price\n",
      "count    20000.000000       20000.000000      20000.000000  20000.000000\n",
      "mean         6.992100          23.274100        112.901200    153.269050\n",
      "std         21.645449          44.927793        131.762226    243.325609\n",
      "min          1.000000           0.000000          0.000000      0.000000\n",
      "25%          1.000000           1.000000          0.000000     69.000000\n",
      "50%          2.000000           5.000000         44.000000    105.000000\n",
      "75%          5.000000          23.000000        229.000000    175.000000\n",
      "max       1250.000000         607.000000        365.000000  10000.000000\n",
      "\n",
      "Negative prices: 0\n",
      "Zero prices: 5\n"
     ]
    }
   ],
   "source": [
    "columns_to_check = ['minimum_nights', 'number_of_reviews', 'availability_365', 'price']\n",
    "\n",
    "print(\"Summary statistics for key columns:\")\n",
    "\n",
    "print(df[columns_to_check].describe())\n",
    "\n",
    "# Searching for specific zero/negative checks\n",
    "print(f\"\\nNegative prices: {(df['price'] < 0).sum()}\")\n",
    "print(f\"Zero prices: {(df['price'] == 0).sum()}\")"
   ]
  },
  {
   "cell_type": "markdown",
   "id": "16e06031-e421-40cb-b2cc-f843c6c1c8a4",
   "metadata": {},
   "source": [
    "## mininum_nights column needs to be investigated\n",
    "* a minimum_nights of 1250 is over `three years`.\n",
    "\n",
    "## Observation\n",
    "* the outliers appear to be `long-term` leases, not `short-term` leases.\n",
    "* the goal is to build a model for `short-term` rental prices, then these values will confuse the model.\n",
    "* catching these early will allow me to filter them out, and build a more accurate model."
   ]
  },
  {
   "cell_type": "code",
   "execution_count": 16,
   "id": "40f9013d-f221-450c-b097-577043b8b227",
   "metadata": {},
   "outputs": [
    {
     "name": "stdout",
     "output_type": "stream",
     "text": [
      "Most common minimum_nights (as % of total):\n",
      "minimum_nights\n",
      "1     26.240\n",
      "2     23.980\n",
      "3     16.545\n",
      "30     7.700\n",
      "4      6.640\n",
      "5      6.040\n",
      "7      4.275\n",
      "6      1.535\n",
      "14     1.085\n",
      "10     0.915\n",
      "Name: proportion, dtype: float64\n",
      "\n",
      "==================================================\n",
      "Percentile distribution for minimum_nights:\n",
      "count    20000.000000\n",
      "mean         6.992100\n",
      "std         21.645449\n",
      "min          1.000000\n",
      "50%          2.000000\n",
      "90%         28.000000\n",
      "95%         30.000000\n",
      "99%         40.020000\n",
      "max       1250.000000\n",
      "Name: minimum_nights, dtype: float64\n",
      "\n",
      "==================================================\n"
     ]
    },
    {
     "data": {
      "image/png": "[encoded data removed]",
      "text/plain": [
       "<Figure size 1200x500 with 2 Axes>"
      ]
     },
     "metadata": {},
     "output_type": "display_data"
    },
    {
     "name": "stdout",
     "output_type": "stream",
     "text": [
      "\n",
      "Extreme minimum_nights listings (> 365):\n",
      "                                      name  price  minimum_nights\n",
      "733     Historic Designer 2 Bed. Apartment     99             999\n",
      "3000   Brand New Luxury Apt Lease Takeover    199             480\n",
      "8981          Shared Studio (females only)    110             999\n",
      "12174     Prime W. Village location 1 bdrm    180            1250\n",
      "13116  800sqft apartment with huge terrace    115             370\n"
     ]
    }
   ],
   "source": [
    "print(\"Most common minimum_nights (as % of total):\")\n",
    "\n",
    "print(df['minimum_nights'].value_counts(normalize=True).head(10) * 100)\n",
    "\n",
    "print(\"\\n\" + \"=\"*50)\n",
    "\n",
    "# This is more direct than manually summing.\n",
    "# It tells me that \"99% of listings have a minimum stay of X nights or less\"\n",
    "print(\"Percentile distribution for minimum_nights:\")\n",
    "print(df['minimum_nights'].describe(percentiles=[.90, .95, .99]))\n",
    "\n",
    "print(\"\\n\" + \"=\"*50)\n",
    "\n",
    "# 1x2 plot for the important values\n",
    "plt.figure(figsize=(12, 5))\n",
    "\n",
    "# I like the boxplot for a clear visual on outliers\n",
    "plt.subplot(1, 2, 1)\n",
    "df.boxplot(column='minimum_nights')\n",
    "plt.ylabel('Minimum Nights')\n",
    "plt.title('Boxplot')\n",
    "\n",
    "# Filtering out the outliers for a clearer view\n",
    "plt.subplot(1, 2, 2)\n",
    "\n",
    "# Using a 45 day cutoff based on the .95 percentile\n",
    "df[df['minimum_nights'] <= 45]['minimum_nights'].hist(bins=45)\n",
    "plt.xlabel('Minimum Nights')\n",
    "plt.title('Zoomed: <= 45 nights')\n",
    "\n",
    "plt.tight_layout()\n",
    "plt.show()\n",
    "\n",
    "# 4. Look at the outliers only\n",
    "print(\"\\nExtreme minimum_nights listings (> 365):\")\n",
    "print(df[df['minimum_nights'] > 365][['name', 'price', 'minimum_nights']].head())"
   ]
  },
  {
   "cell_type": "markdown",
   "id": "bf2685ea-2d8c-44d6-a9a3-f08ceaba4642",
   "metadata": {},
   "source": [
    "## Investigate latitude/longitude\n",
    "* this should be straight-forward, as invalid latitude/longitude values should be easy to find based on the known values of NYC.\n",
    "* finding latitude/longitude values far outside NYC would skew the data if the goal is to only find short-term lease prices in NYC.\n",
    "## Observation\n",
    "* there are `zero` locations I should filter out as they appear to be outside of NYC.\n",
    "* **Data Source Note:** The official geographic boundaries for NYC (lat: `40.496` to `40.916`, lon: `-74.257` to `-73.699`) were sourced from the [NYC Department of City Planning metadata](https://s-media.nyc.gov/agencies/dcp/assets/files/pdf/data-tools/bytes/nybb_metadata.pdf)."
   ]
  },
  {
   "cell_type": "code",
   "execution_count": 17,
   "id": "8e18d1ad-f825-4149-b4ca-4cc11e4d7e36",
   "metadata": {},
   "outputs": [
    {
     "name": "stdout",
     "output_type": "stream",
     "text": [
      "Listings outside NYC bounds: 0\n"
     ]
    }
   ],
   "source": [
    "# .between() expects (min_value, max_value)\n",
    "lat_bounds = df['latitude'].between(40.496010, 40.915568)\n",
    "lon_bounds = df['longitude'].between(-74.257159, -73.699215)\n",
    "\n",
    "listings_inside_bounds = (lat_bounds & lon_bounds)\n",
    "print(f\"Listings outside NYC bounds: {(~listings_inside_bounds).sum()}\")"
   ]
  },
  {
   "cell_type": "code",
   "execution_count": null,
   "id": "ab41adab-53a8-4dd2-827d-b3e82b12003d",
   "metadata": {},
   "outputs": [],
   "source": []
  }
 ],
 "metadata": {
  "kernelspec": {
   "display_name": "nyc_airbnb_dev",
   "language": "python",
   "name": "python3"
  },
  "language_info": {
   "codemirror_mode": {
    "name": "ipython",
    "version": 3
   },
   "file_extension": ".py",
   "mimetype": "text/x-python",
   "name": "python",
   "nbconvert_exporter": "python",
   "pygments_lexer": "ipython3",
   "version": "3.10.14"
  }
 },
 "nbformat": 4,
 "nbformat_minor": 5
}
